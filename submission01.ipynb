{
  "nbformat": 4,
  "nbformat_minor": 0,
  "metadata": {
    "colab": {
      "name": "submission01.ipynb",
      "provenance": []
    },
    "kernelspec": {
      "name": "python3",
      "display_name": "Python 3"
    }
  },
  "cells": [
    {
      "cell_type": "markdown",
      "metadata": {
        "id": "uuvPx0T-2lJR"
      },
      "source": [
        "#**IBM Applied Data Science - Capstone Project**"
      ]
    },
    {
      "cell_type": "markdown",
      "metadata": {
        "id": "XNYf8R6s3Pcn"
      },
      "source": [
        "**Notebook used for submission of peer-graded assignment**\n",
        "\n",
        "*First full ML project in python*"
      ]
    },
    {
      "cell_type": "code",
      "metadata": {
        "id": "Km6zpIZa2zes"
      },
      "source": [
        "import pandas as pd\n",
        "import numpy as np"
      ],
      "execution_count": 3,
      "outputs": []
    },
    {
      "cell_type": "code",
      "metadata": {
        "id": "lrRxN-zt3lBA",
        "outputId": "b2a6e092-f7c6-414b-b341-dec66892b18a",
        "colab": {
          "base_uri": "https://localhost:8080/"
        }
      },
      "source": [
        "print(\"Hello Capstone Project Course!\")"
      ],
      "execution_count": 4,
      "outputs": [
        {
          "output_type": "stream",
          "text": [
            "Hello Capstone Project Course!\n"
          ],
          "name": "stdout"
        }
      ]
    },
    {
      "cell_type": "code",
      "metadata": {
        "id": "vgngPTyU3or2"
      },
      "source": [
        ""
      ],
      "execution_count": null,
      "outputs": []
    }
  ]
}